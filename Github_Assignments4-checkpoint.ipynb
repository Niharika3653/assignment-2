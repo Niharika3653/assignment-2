{
 "cells": [
  {
   "cell_type": "markdown",
   "id": "7b2898d1",
   "metadata": {},
   "source": [
    "# Create a Function which takes two lists as parameters, check whether two lists of same length, if not same length return not same lenght. otherwise sort the first list in ascending order and also sort the second list in liue of list 1\n"
   ]
  },
  {
   "cell_type": "code",
   "execution_count": 8,
   "id": "3a5543fa",
   "metadata": {},
   "outputs": [],
   "source": [
    "def sort(l1,l2):\n",
    "    if len(l1)!=len(l2):\n",
    "        print(\"not in same length\")\n",
    "    else:\n",
    "        x=list(l1)\n",
    "        x.sort()\n",
    "        print(x)\n",
    "        y=[]\n",
    "        for i in x:\n",
    "            for j in range(0,len(l2)):\n",
    "                if l1[j]==i:\n",
    "                    y.append(l2[j])\n",
    "        print(y)"
   ]
  },
  {
   "cell_type": "code",
   "execution_count": 9,
   "id": "3f41e1b0",
   "metadata": {},
   "outputs": [],
   "source": [
    "l1=[15,2,62,6,96,21,101,25]\n",
    "l2=[9,12,36,19,20,221,301,5]"
   ]
  },
  {
   "cell_type": "code",
   "execution_count": 10,
   "id": "f9f60963",
   "metadata": {},
   "outputs": [
    {
     "name": "stdout",
     "output_type": "stream",
     "text": [
      "[2, 6, 15, 21, 25, 62, 96, 101]\n",
      "[12, 19, 9, 221, 5, 36, 20, 301]\n"
     ]
    }
   ],
   "source": [
    "sort(l1,l2)"
   ]
  },
  {
   "cell_type": "code",
   "execution_count": null,
   "id": "937efee5",
   "metadata": {},
   "outputs": [],
   "source": []
  }
 ],
 "metadata": {
  "kernelspec": {
   "display_name": "Python 3 (ipykernel)",
   "language": "python",
   "name": "python3"
  },
  "language_info": {
   "codemirror_mode": {
    "name": "ipython",
    "version": 3
   },
   "file_extension": ".py",
   "mimetype": "text/x-python",
   "name": "python",
   "nbconvert_exporter": "python",
   "pygments_lexer": "ipython3",
   "version": "3.10.9"
  }
 },
 "nbformat": 4,
 "nbformat_minor": 5
}
